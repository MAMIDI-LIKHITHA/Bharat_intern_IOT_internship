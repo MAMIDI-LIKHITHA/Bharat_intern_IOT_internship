{
  "nbformat": 4,
  "nbformat_minor": 0,
  "metadata": {
    "colab": {
      "provenance": [],
      "authorship_tag": "ABX9TyNQtGmEhs1F+7JKiA6/VCDl",
      "include_colab_link": true
    },
    "kernelspec": {
      "name": "python3",
      "display_name": "Python 3"
    },
    "language_info": {
      "name": "python"
    }
  },
  "cells": [
    {
      "cell_type": "markdown",
      "metadata": {
        "id": "view-in-github",
        "colab_type": "text"
      },
      "source": [
        "<a href=\"https://colab.research.google.com/github/MAMIDI-LIKHITHA/Bharat_intern_IOT_internship/blob/main/Smart_parking_System.ipynb\" target=\"_parent\"><img src=\"https://colab.research.google.com/assets/colab-badge.svg\" alt=\"Open In Colab\"/></a>"
      ]
    },
    {
      "cell_type": "markdown",
      "source": [
        "#Smart parking system"
      ],
      "metadata": {
        "id": "a3QPv5Nx3YiK"
      }
    },
    {
      "cell_type": "markdown",
      "source": [
        "Smart parking systems are widely used to improve People’s Daily life, so the use of smart parking systems is expected to increase constantly. The system can also add the following advanced functions, making it a multi-functional management tool."
      ],
      "metadata": {
        "id": "QORGpQWj3gai"
      }
    },
    {
      "cell_type": "markdown",
      "source": [
        ".Parking demand management and space optimization\n",
        "\n",
        ".Personalized parking guidance\n",
        "\n",
        ".parking reservation system\n",
        "\n",
        ".dynamic parking price and policy optimization\n",
        "\n",
        ".parking area, charging, illegal parking detection"
      ],
      "metadata": {
        "id": "f60CJTUS3mCY"
      }
    },
    {
      "cell_type": "markdown",
      "source": [
        "For large parking lots, augmented reality might create a mapping function on real images captured by smartphones. These AR outdoor and indoor navigation systems can guide drivers to their parked cars via virtual paths."
      ],
      "metadata": {
        "id": "PeKa8c8j33VV"
      }
    },
    {
      "cell_type": "markdown",
      "source": [
        "The future of smart parking systems seems prospective. The technologies behind this solution include the Internet of Things, artificial intelligence, machine learning and augmented reality, which are also driving the digital transformation of enterprises in industry 4.0 terms. Leveraging these innovations, Parking 4.0 will improve the efficiency of parking systems by addressing urbanization challenges."
      ],
      "metadata": {
        "id": "9iTyJ7A737DP"
      }
    },
    {
      "cell_type": "code",
      "source": [
        "#include <LiquidCrystal_I2C.h>\n",
        "#include <SoftwareSerial.h>\n",
        "SoftwareSerial mySerial(10, 11);\n",
        "LiquidCrystal_I2C lcd(0x27, 16, 2); // set the LCD address to 0x27 for a 16 chars and 2 line display\n",
        "const int trig_1 = 2;\n",
        "const int echo_1 = 3;\n",
        "const int trig_2 = 4;\n",
        "const int echo_2 = 5;\n",
        "const int trig_3 = 6;\n",
        "const int echo_3 = 7;\n",
        "float distanceCM_1 = 0, resultCM_1 = 0;\n",
        "float distanceCM_2 = 0, resultCM_2 = 0;\n",
        "float distanceCM_3 = 0, resultCM_3 = 0;\n",
        "long Time_1, Time_2, Time_3;\n",
        "float car_1, car_2, car_3;\n",
        "float Dist_1 = 8.0, Dist_2 = 8.0, Dist_3 = 8.0;\n",
        "int total = 0, timer_cnt = 0;\n",
        "void setup()\n",
        "{\n",
        "mySerial.begin(115200);\n",
        "  pinMode(trig_1, OUTPUT);\n",
        "  pinMode(trig_2, OUTPUT);\n",
        "  pinMode(trig_3, OUTPUT);\n",
        "  pinMode(echo_1, INPUT);\n",
        "  pinMode(echo_2, INPUT);\n",
        "  pinMode(echo_3, INPUT);\n",
        "  digitalWrite(trig_1, LOW);\n",
        "  digitalWrite(trig_2, LOW);\n",
        "  digitalWrite(trig_3, LOW);\n",
        "  lcd.init();\n",
        "  lcd.backlight();\n",
        "  lcd.setCursor(0, 0);\n",
        "  lcd.print(\"  IoT CAR PARK\");\n",
        "  lcd.setCursor(0, 1);\n",
        "  lcd.print(\" MONITOR SYSTEM\");\n",
        "  delay(2000);\n",
        "  lcd.clear();\n",
        "}\n",
        "void loop()\n",
        "{\n",
        "  total = 0;\n",
        "  car_1 = sensor_1();\n",
        "  car_2 = sensor_2();\n",
        "  car_3 = sensor_3();\n",
        "  lcd.setCursor(0, 0);\n",
        "  lcd.print(\"CAR1:\");\n",
        "  if (car_1 <= Dist_1)\n",
        "  {\n",
        "    lcd.print(\"OK \");\n",
        "  }\n",
        "  else\n",
        "  {\n",
        "    total += 1;\n",
        "  }\n",
        "  if (car_1 > Dist_1)   lcd.print(\"NO \");\n",
        "  lcd.print(\"CAR2:\");\n",
        "  if (car_2 <= Dist_2)\n",
        "  {\n",
        "    lcd.print(\"OK \");\n",
        "  }\n",
        "  else\n",
        "  {\n",
        "    total += 1;\n",
        "  }\n",
        "if (car_1 > Dist_1)   lcd.print(\"NO \");\n",
        "  lcd.print(\"CAR2:\");\n",
        "  if (car_2 <= Dist_2)\n",
        "  {\n",
        "    lcd.print(\"OK \");\n",
        "  }\n",
        "  else\n",
        "  {\n",
        "    total += 1;\n",
        "  }\n",
        "  if (car_2 > Dist_2)   lcd.print(\"NO \");\n",
        "  lcd.setCursor(0, 1);\n",
        "  lcd.print(\"CAR3:\");\n",
        "  if (car_3 <= Dist_3)\n",
        "  {\n",
        "    lcd.print(\"OK \");\n",
        "  }\n",
        "  else\n",
        "  {\n",
        "    total += 1;\n",
        "  }\n",
        "  if (car_3 > Dist_3)   lcd.print(\"NO \");\n",
        "  lcd.print(\"FREE:\");\n",
        "  lcd.print(total);\n",
        "  if (timer_cnt >= 50)\n",
        "  {\n",
        "    mySerial.print('*');\n",
        "    mySerial.print(total);\n",
        "    mySerial  .println('#');\n",
        "    timer_cnt = 0;\n",
        "  }\n",
        "  timer_cnt += 1;\n",
        "  delay(200);\n",
        "}\n",
        "float sensor_1(void)\n",
        "{\n",
        "  digitalWrite(trig_1, HIGH);\n",
        "  delayMicroseconds(10);\n",
        "  digitalWrite(trig_1, LOW);\n",
        "  Time_1 = pulseIn(echo_1, HIGH);\n",
        "  distanceCM_1 = Time_1 * 0.034;\n",
        "  return resultCM_1 = distanceCM_1 / 2;\n",
        "}\n",
        "\n",
        "float sensor_2(void)\n",
        "{\n",
        "  digitalWrite(trig_2, HIGH);\n",
        "  delayMicroseconds(10);\n",
        "  digitalWrite(trig_2, LOW);\n",
        "  Time_2 = pulseIn(echo_2, HIGH);\n",
        "  distanceCM_2 = Time_2 * 0.034;\n",
        "  return resultCM_2 = distanceCM_2 / 2;\n",
        "}\n",
        "\n",
        "float sensor_3(void)\n",
        "{\n",
        "  digitalWrite(trig_3, HIGH);\n",
        "  delayMicroseconds(10);\n",
        "  digitalWrite(trig_3, LOW);\n",
        "  Time_3 = pulseIn(echo_3, HIGH);\n",
        "  distanceCM_3 = Time_3 * 0.034;\n",
        "  return resultCM_3 = distanceCM_3 / 2;\n",
        "}"
      ],
      "metadata": {
        "id": "sHIPvG1v4kVa"
      },
      "execution_count": null,
      "outputs": []
    }
  ]
}