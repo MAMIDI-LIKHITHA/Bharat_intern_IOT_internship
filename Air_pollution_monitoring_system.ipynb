{
  "nbformat": 4,
  "nbformat_minor": 0,
  "metadata": {
    "colab": {
      "provenance": [],
      "authorship_tag": "ABX9TyPH3TOpQaNTGh+OhwqrIceL",
      "include_colab_link": true
    },
    "kernelspec": {
      "name": "python3",
      "display_name": "Python 3"
    },
    "language_info": {
      "name": "python"
    }
  },
  "cells": [
    {
      "cell_type": "markdown",
      "metadata": {
        "id": "view-in-github",
        "colab_type": "text"
      },
      "source": [
        "<a href=\"https://colab.research.google.com/github/MAMIDI-LIKHITHA/Bharat_intern_IOT_internship/blob/main/Air_pollution_monitoring_system.ipynb\" target=\"_parent\"><img src=\"https://colab.research.google.com/assets/colab-badge.svg\" alt=\"Open In Colab\"/></a>"
      ]
    },
    {
      "cell_type": "markdown",
      "source": [
        "# Air pollution monitoring system"
      ],
      "metadata": {
        "id": "oYt3W4Rh2sm8"
      }
    },
    {
      "cell_type": "markdown",
      "source": [
        "When the value will be less than 1000 PPM, then the LCD and webpage will display “Fresh Air”.  Whenever the value will increase 1000 PPM, then the buzzer will start beeping and the LCD and webpage will display “Poor Air, Open Windows”. If it will increase 2000 then the buzzer will keep beeping and the LCD and webpage will display “Danger! Move to fresh Air”"
      ],
      "metadata": {
        "id": "PtgO7kjF2qQC"
      }
    },
    {
      "cell_type": "markdown",
      "source": [
        "The MQ135 sensor can sense NH3, NOx, alcohol, Benzene, smoke, CO2 and some other gases, so it is perfect gas sensor for our Air Quality Monitoring Project. When we will connect it to Arduino then it will sense the gases, and we will get the Pollution level in PPM (parts per million). MQ135 gas sensor gives the output in form of voltage levels and we need to convert it into PPM. So for converting the output in PPM, here we have used a library for MQ135 sensor, it is explained in detail in “Code Explanation” section below."
      ],
      "metadata": {
        "id": "QR6wqs4W2m4X"
      }
    },
    {
      "cell_type": "markdown",
      "source": [
        "Sensor was giving us value of 90 when there was no gas near it and the safe level of air quality is 350 PPM and it should not exceed 1000 PPM. When it exceeds the limit of 1000 PPM, then it starts cause Headaches, sleepiness and stagnant, stale, stuffy air and if exceeds beyond 2000 PPM then it can cause increased heart rate and many other diseases."
      ],
      "metadata": {
        "id": "mdGugnHm2ocX"
      }
    }
  ]
}